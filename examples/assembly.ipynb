{
 "cells": [
  {
   "cell_type": "code",
   "execution_count": 1,
   "metadata": {},
   "outputs": [],
   "source": [
    "step_file_path = \"examples/test/Robot.step\""
   ]
  },
  {
   "cell_type": "code",
   "execution_count": 2,
   "metadata": {},
   "outputs": [
    {
     "name": "stdout",
     "output_type": "stream",
     "text": [
      "Reading STEP file ... parsing Assembly ... done\n",
      "duration:   6.3 s\n"
     ]
    }
   ],
   "source": [
    "from ocp_tessellate.stepreader import StepReader\n",
    "\n",
    "r = StepReader()\n",
    "r.load(step_file_path)\n",
    "cq_assembly = r.to_cadquery()"
   ]
  },
  {
   "cell_type": "code",
   "execution_count": 6,
   "metadata": {},
   "outputs": [],
   "source": [
    "from orion_cli.services.cad_service import CadService, Project, AssemblyIndex\n",
    "\n",
    "project = Project()\n",
    "index = AssemblyIndex()\n",
    "assemblies = CadService.read_cq_assembly(cq_assembly, project, index)\n"
   ]
  },
  {
   "cell_type": "code",
   "execution_count": null,
   "metadata": {},
   "outputs": [],
   "source": [
    "from jupyter_cadquery.viewer import show\n",
    "show(project.root_assembly.to_cq(project))"
   ]
  },
  {
   "cell_type": "code",
   "execution_count": 7,
   "metadata": {},
   "outputs": [],
   "source": [
    "new_project = Project()\n",
    "new_index = AssemblyIndex(prev_project=project)\n",
    "\n",
    "rev_assemblies = CadService.read_cq_assembly(cq_assembly, new_project, new_index)\n"
   ]
  },
  {
   "cell_type": "code",
   "execution_count": 8,
   "metadata": {},
   "outputs": [],
   "source": [
    "from pathlib import Path\n",
    "\n",
    "CadService.write_project(\"examples/test/Robot\", new_project, new_index)"
   ]
  },
  {
   "cell_type": "code",
   "execution_count": 6,
   "metadata": {},
   "outputs": [],
   "source": [
    "project = CadService.read_project(\"examples/test/Robot\")"
   ]
  },
  {
   "cell_type": "code",
   "execution_count": 10,
   "metadata": {},
   "outputs": [],
   "source": [
    "new_project2 = Project()\n",
    "new_index2 = AssemblyIndex(prev_project=project)\n",
    "\n",
    "rev_assemblies = CadService.read_cq_assembly(cq_assembly, new_project2, new_index2)\n"
   ]
  },
  {
   "cell_type": "code",
   "execution_count": 1,
   "metadata": {},
   "outputs": [
    {
     "name": "stderr",
     "output_type": "stream",
     "text": [
      "Generating visualization\n"
     ]
    },
    {
     "name": "stdout",
     "output_type": "stream",
     "text": [
      "Overwriting auto display for cadquery Workplane and Shape\n",
      "........................................................................................................................................................................................................ sending ... done\n"
     ]
    }
   ],
   "source": [
    "from orion_cli.services.cad_service import CadService, Project, AssemblyIndex\n",
    "\n",
    "CadService.visualize_project(\"examples/test/Robot\", remote_viewer=True)"
   ]
  },
  {
   "cell_type": "code",
   "execution_count": null,
   "metadata": {},
   "outputs": [],
   "source": []
  }
 ],
 "metadata": {
  "kernelspec": {
   "display_name": "base",
   "language": "python",
   "name": "python3"
  },
  "language_info": {
   "codemirror_mode": {
    "name": "ipython",
    "version": 3
   },
   "file_extension": ".py",
   "mimetype": "text/x-python",
   "name": "python",
   "nbconvert_exporter": "python",
   "pygments_lexer": "ipython3",
   "version": "3.11.8"
  }
 },
 "nbformat": 4,
 "nbformat_minor": 2
}
