{
 "cells": [
  {
   "cell_type": "code",
   "execution_count": 1,
   "metadata": {},
   "outputs": [],
   "source": [
    "step_file_path = \"examples/test/Robot.step\""
   ]
  },
  {
   "cell_type": "code",
   "execution_count": 2,
   "metadata": {},
   "outputs": [
    {
     "name": "stdout",
     "output_type": "stream",
     "text": [
      "Reading STEP file ... parsing Assembly ... done\n",
      "duration:   6.3 s\n"
     ]
    }
   ],
   "source": [
    "from ocp_tessellate.stepreader import StepReader\n",
    "\n",
    "r = StepReader()\n",
    "r.load(step_file_path)\n",
    "cq_assembly = r.to_cadquery()"
   ]
  },
  {
   "cell_type": "code",
   "execution_count": 4,
   "metadata": {},
   "outputs": [],
   "source": [
    "from orion_cli.services.cad_service import CadService, Project, AssemblyIndex\n",
    "\n",
    "project = Project()\n",
    "index = AssemblyIndex()\n",
    "assemblies = CadService.read_cqassembly(cq_assembly, project, index, use_references=True)\n",
    "# assemblies = CadService.read_cqassembly(cq_assembly, project, index, use_references=False)"
   ]
  },
  {
   "cell_type": "code",
   "execution_count": 5,
   "metadata": {},
   "outputs": [
    {
     "data": {
      "text/plain": [
       "{'34dc8687db09aada515c7687ad4b19d2': CatalogItem(name='Shoulder_Inner_0', variations=[InventoryPartVariation(id=0, color=[0.8227857351303101, 0.8227857351303101, 0.8227857351303101, 1.0], price=None)]),\n",
       " '6c456ddc8ab63e7d0534621fcbef0888': CatalogItem(name='Shoulder_NonTorso_0', variations=[InventoryPartVariation(id=0, color=[0.8227857351303101, 0.8227857351303101, 0.8227857351303101, 1.0], price=None)]),\n",
       " '2f6e7b4e3686d489f4755e2171be91c0': CatalogItem(name='X8_<1>_0-Inner_0', variations=[InventoryPartVariation(id=0, color=[0.9386857151985168, 0.24228112399578094, 0.0003035269910469651, 1.0], price=None)]),\n",
       " 'fa9d45e2978a9108699e4814aa0bd953': CatalogItem(name='X8_<1>_0-Outer_0', variations=[InventoryPartVariation(id=0, color=[0.8227857351303101, 0.8227857351303101, 0.8227857351303101, 1.0], price=None)]),\n",
       " '41ba72c40f1caabdaed0f175bc58ff25': CatalogItem(name='X8_<1>_0-PCB_0', variations=[InventoryPartVariation(id=0, color=[0.5520114302635193, 0.7605245113372803, 0.8962693810462952, 1.0], price=None)]),\n",
       " '578cc0c24c967a976901341f71a2be9d': CatalogItem(name='X4_<1>_0-Outer_0', variations=[InventoryPartVariation(id=0, color=[0.5520114302635193, 0.7605245113372803, 0.8962693810462952, 1.0], price=None)]),\n",
       " '3028aeb4c44efd73a0e9a1691af54732': CatalogItem(name='X4_<1>_0-PCB_0', variations=[InventoryPartVariation(id=0, color=[0.9386857151985168, 0.24228112399578094, 0.0003035269910469651, 1.0], price=None)]),\n",
       " 'dfdf45bb67c86b4ed01f890addc43d7e': CatalogItem(name='X4_<1>_0-Inner_0', variations=[InventoryPartVariation(id=0, color=[0.9386857151985168, 0.24228112399578094, 0.0003035269910469651, 1.0], price=None)]),\n",
       " 'd65d8a89d6b5999819beaa0173dde981': CatalogItem(name='X6_<2>_0-Outer_0', variations=[InventoryPartVariation(id=0, color=[0.9386857151985168, 0.24228112399578094, 0.0003035269910469651, 1.0], price=None)]),\n",
       " 'c84f0dbbd2402eaba07c386946ad1659': CatalogItem(name='X6_<2>_0-Inner_0', variations=[InventoryPartVariation(id=0, color=[0.21223075687885284, 0.21223075687885284, 0.21223075687885284, 1.0], price=None)]),\n",
       " '0dd1f878a13299e9236f99766e9e1e5e': CatalogItem(name='X6_<2>_0-PCB_0', variations=[InventoryPartVariation(id=0, color=[0.9559733271598816, 0.4677838087081909, 0.0003035269910469651, 1.0], price=None)]),\n",
       " 'dead527226a9daaf4e23e8a42244fcc0': CatalogItem(name='Forearm_0', variations=[InventoryPartVariation(id=0, color=[0.9386857151985168, 0.24228112399578094, 0.0003035269910469651, 1.0], price=None)]),\n",
       " 'f5d2048a64296da48b073b693f288fec': CatalogItem(name='Elbow_0', variations=[InventoryPartVariation(id=0, color=[0.9386857151985168, 0.24228112399578094, 0.0003035269910469651, 1.0], price=None)]),\n",
       " '815396318413e00b5ff9abbdd39ca43f': CatalogItem(name='Slide_1', variations=[InventoryPartVariation(id=0, color=[0.8227857351303101, 0.8227857351303101, 0.8227857351303101, 1.0], price=None)]),\n",
       " 'e00cb1958ef163679795f54c2cf8a6d9': CatalogItem(name='Camera_Mount_0', variations=[InventoryPartVariation(id=0, color=[0.3762621283531189, 0.3762621283531189, 0.3762621283531189, 1.0], price=None)]),\n",
       " 'd9c453647b43ca8dd999a1ddd5d2007d': CatalogItem(name='Mount_0', variations=[InventoryPartVariation(id=0, color=[0.33716362714767456, 0.6239603757858276, 0.8468732237815857, 1.0], price=None)]),\n",
       " '31aba5fff0648548e6565b73ecc7fe8b': CatalogItem(name='Spur_gear__26_teeth__0', variations=[InventoryPartVariation(id=0, color=[0.33716362714767456, 0.6239603757858276, 0.8468732237815857, 1.0], price=None)]),\n",
       " '3b9e5e2f86a77d35cb4d73e694742b3c': CatalogItem(name='Rack_1', variations=[InventoryPartVariation(id=0, color=[0.3762621283531189, 0.3762621283531189, 0.3762621283531189, 1.0], price=None)]),\n",
       " 'f7c58225df89cc524937384224b4eb14': CatalogItem(name='Wrist_0', variations=[InventoryPartVariation(id=0, color=[0.33716362714767456, 0.6239603757858276, 0.8468732237815857, 1.0], price=None)]),\n",
       " 'dccc2d76abdd34e89f57ba7fafc4013c': CatalogItem(name='Gripper_1', variations=[InventoryPartVariation(id=0, color=[0.3762621283531189, 0.3762621283531189, 0.3762621283531189, 1.0], price=None)]),\n",
       " '6df12b23d9b056b7fe6756e49f1b00fe': CatalogItem(name='Slide_Rail_0', variations=[InventoryPartVariation(id=0, color=[0.04373503103852272, 0.11953842639923096, 0.4564110338687897, 1.0], price=None)]),\n",
       " '0b3e8ea92fd552e74218592f6f7d3266': CatalogItem(name='Arducam_Case_0', variations=[InventoryPartVariation(id=0, color=[0.33716362714767456, 0.6239603757858276, 0.8468732237815857, 1.0], price=None)]),\n",
       " '73208397a75d8a31799591c457a83203': CatalogItem(name='Base_0', variations=[InventoryPartVariation(id=0, color=[0.33716362714767456, 0.6239603757858276, 0.8468732237815857, 1.0], price=None)]),\n",
       " 'e1d27e445f83c069026353557f5b3df4': CatalogItem(name='Hips_0', variations=[InventoryPartVariation(id=0, color=[0.33716362714767456, 0.6239603757858276, 0.8468732237815857, 1.0], price=None)]),\n",
       " 'c945c75012a5509a86e756a36883e40b': CatalogItem(name='hip_rotate_0', variations=[InventoryPartVariation(id=0, color=[0.8227857351303101, 0.8227857351303101, 0.8227857351303101, 1.0], price=None)]),\n",
       " '1ca003ca4f7ade55b19cc95a8a4256b9': CatalogItem(name='Thigh_HTD_5mm_44T_Pulley_0', variations=[InventoryPartVariation(id=0, color=[0.8227857351303101, 0.8227857351303101, 0.8227857351303101, 1.0], price=None)]),\n",
       " 'c5a9567539994bc46c57e9ad185c4458': CatalogItem(name='Ankle_Pulley_48T_0', variations=[InventoryPartVariation(id=0, color=[0.33716362714767456, 0.6239603757858276, 0.8468732237815857, 1.0], price=None)]),\n",
       " '32a20ae923b97139ebc984cbb13fcea1': CatalogItem(name='Calf_Pulley_24T_0', variations=[InventoryPartVariation(id=0, color=[0.9386857151985168, 0.24228112399578094, 0.0003035269910469651, 1.0], price=None)]),\n",
       " 'de60eb80ea53ca2c88fcaa34490c8446': CatalogItem(name='Rubber_0', variations=[InventoryPartVariation(id=0, color=[0.3762621283531189, 0.3762621283531189, 0.3762621283531189, 1.0], price=None)]),\n",
       " 'b6cfe3b9891049fe25a43caa0525fa53': CatalogItem(name='Foot_0', variations=[InventoryPartVariation(id=0, color=[0.33716362714767456, 0.6239603757858276, 0.8468732237815857, 1.0], price=None)]),\n",
       " 'f4b61a464077558e082639e27fd24a4e': CatalogItem(name='Thigh_Rotate_Left_0', variations=[InventoryPartVariation(id=0, color=[0.8227857351303101, 0.8227857351303101, 0.8227857351303101, 1.0], price=None)]),\n",
       " 'e42c58e01d479d9a057aa118d6d9fa94': CatalogItem(name='Belt_Thigh_Left_0', variations=[InventoryPartVariation(id=0, color=[0.3762621283531189, 0.3762621283531189, 0.3762621283531189, 1.0], price=None)]),\n",
       " 'f3046d460b809540c3bd186ba5c95245': CatalogItem(name='Right_Leg_<1>_0-X10_<1>_0-Outer_0', variations=[InventoryPartVariation(id=0, color=[0.9386857151985168, 0.24228112399578094, 0.0003035269910469651, 1.0], price=None)]),\n",
       " 'd0d15b0eefbac8f910b84db8a36ae245': CatalogItem(name='Right_Leg_<1>_0-X10_<1>_0-PCB_0', variations=[InventoryPartVariation(id=0, color=[0.21223075687885284, 0.21223075687885284, 0.21223075687885284, 1.0], price=None)]),\n",
       " '3056d5b9c8c19bf2890e45c4417f3d99': CatalogItem(name='Right_Leg_<1>_0-X10_<1>_0-Inner_0', variations=[InventoryPartVariation(id=0, color=[0.9559733271598816, 0.4677838087081909, 0.0003035269910469651, 1.0], price=None)]),\n",
       " 'f461b52ad9545a05982b3e7ac1b4bfea': CatalogItem(name='51T_HDT5_15MM_Belt_Knee_Left_0', variations=[InventoryPartVariation(id=0, color=[0.3762621283531189, 0.3762621283531189, 0.3762621283531189, 1.0], price=None)]),\n",
       " 'a5e8a68a17046183e2cce151c3e4b77f': CatalogItem(name='Ankle_0', variations=[InventoryPartVariation(id=0, color=[0.3762621283531189, 0.3762621283531189, 0.3762621283531189, 1.0], price=None)]),\n",
       " '79b36ade1dabcce6365425932d238b7c': CatalogItem(name='Thigh_Rotate_Right_0', variations=[InventoryPartVariation(id=0, color=[0.8227857351303101, 0.8227857351303101, 0.8227857351303101, 1.0], price=None)]),\n",
       " '87e0090dfb09ab58093b1f94c73b5f93': CatalogItem(name='51T_HDT5_15MM_Belt_Knee_Right_0', variations=[InventoryPartVariation(id=0, color=[0.3762621283531189, 0.3762621283531189, 0.3762621283531189, 1.0], price=None)]),\n",
       " '50a88d4d706c5afb28a9cb8d8fe47c05': CatalogItem(name='Belt_Thigh_Right_0', variations=[InventoryPartVariation(id=0, color=[0.3762621283531189, 0.3762621283531189, 0.3762621283531189, 1.0], price=None)]),\n",
       " 'bd243aaf0a2fc4a96bf94780280b945f': CatalogItem(name='92981A105_Alloy_Steel_Shoulder_Screws_3', variations=[InventoryPartVariation(id=0, color=[0.5271151065826416, 0.5271151065826416, 0.5271151065826416, 1.0], price=None)]),\n",
       " '8e7b2a4313503bfd46fc08e3345fc64d': CatalogItem(name='Link_1', variations=[InventoryPartVariation(id=0, color=[0.38642942905426025, 0.6444796919822693, 0.2917706370353699, 1.0], price=None)]),\n",
       " '0aca8245791f5de5553571b5049038d8': CatalogItem(name='Bottom_Torso_Upper_Half_0', variations=[InventoryPartVariation(id=0, color=[0.33716362714767456, 0.6239603757858276, 0.8468732237815857, 1.0], price=None)]),\n",
       " 'b4d70dec08a9b549f0931595a80f57dd': CatalogItem(name='Torso_Crank_Left_0', variations=[InventoryPartVariation(id=0, color=[0.4677838087081909, 0.5394794940948486, 0.6038273572921753, 1.0], price=None)]),\n",
       " '299494cc38e32ca1355c3df24ebbd929': CatalogItem(name='6mm_Bearing_5', variations=[InventoryPartVariation(id=0, color=[0.5271151065826416, 0.5271151065826416, 0.5271151065826416, 1.0], price=None)]),\n",
       " '31c30153d3e4022e6a1a3725929d7d51': CatalogItem(name='Bearing_1', variations=[InventoryPartVariation(id=0, color=[0.5271151065826416, 0.5271151065826416, 0.5271151065826416, 1.0], price=None)]),\n",
       " 'b3226b338c27ebe52bbccdda4b89c7b9': CatalogItem(name='Bottom_Torso_Lower_Half_0', variations=[InventoryPartVariation(id=0, color=[0.7529422044754028, 0.28744083642959595, 0.1946178376674652, 1.0], price=None)]),\n",
       " '55df24d3e8b0d1ed59e43c9d226b2353': CatalogItem(name='Cone_Spacer_7', variations=[InventoryPartVariation(id=0, color=[0.38642942905426025, 0.30054378509521484, 0.6444796919822693, 1.0], price=None)]),\n",
       " '2a6623d7ebd0f7d54d2ed92fc8118053': CatalogItem(name='92981A106_Alloy_Steel_Shoulder_Screws_0', variations=[InventoryPartVariation(id=0, color=[0.5271151065826416, 0.5271151065826416, 0.5271151065826416, 1.0], price=None)]),\n",
       " 'c390815252d14c7b7720d7f0cdba4648': CatalogItem(name='Top_Torso_0', variations=[InventoryPartVariation(id=0, color=[0.33716362714767456, 0.6239603757858276, 0.8468732237815857, 1.0], price=None)]),\n",
       " 'a9180545752adadd78866110a1121d45': CatalogItem(name='2995K11_Swivel_Joint_<2>_0-Part_1_0', variations=[InventoryPartVariation(id=0, color=[0.5271151065826416, 0.5271151065826416, 0.5271151065826416, 1.0], price=None)]),\n",
       " '0e2b94c7ae3fa3b4dacbaf10aa6991cc': CatalogItem(name='2995K11_Swivel_Joint_<2>_0-Part_2_0', variations=[InventoryPartVariation(id=0, color=[0.5271151065826416, 0.5271151065826416, 0.5271151065826416, 1.0], price=None)]),\n",
       " '51e30fb9cd65cae56325b49c930163d2': CatalogItem(name='92981A107_Alloy_Steel_Shoulder_Screws_<1>_0-Part_1_0', variations=[InventoryPartVariation(id=0, color=[0.5271151065826416, 0.5271151065826416, 0.5271151065826416, 1.0], price=None)]),\n",
       " 'dec1404f3286bf9f02ede35c72a46fec': CatalogItem(name='92981A107_Alloy_Steel_Shoulder_Screws_<1>_0-Part_2_0', variations=[InventoryPartVariation(id=0, color=[0.5271151065826416, 0.5271151065826416, 0.5271151065826416, 1.0], price=None)]),\n",
       " '6751062260da59a4cdb196fc2d39cb3c': CatalogItem(name='Torso_Pivot_0', variations=[InventoryPartVariation(id=0, color=[0.09530746936798096, 0.5647115111351013, 0.5088813304901123, 1.0], price=None)]),\n",
       " '19628061091eb84f9a867dea6f5c9ec2': CatalogItem(name='Torso_Crank_Right_0', variations=[InventoryPartVariation(id=0, color=[0.4677838087081909, 0.5394794940948486, 0.6038273572921753, 1.0], price=None)]),\n",
       " 'f0195d9636d0e806f855954dfa48930b': CatalogItem(name='Head_0', variations=[InventoryPartVariation(id=0, color=[0.33716362714767456, 0.6239603757858276, 0.8468732237815857, 1.0], price=None)]),\n",
       " 'ffd9c7628de9b3a0cc060d4cdc0e2c67': CatalogItem(name='Ardu_Cam_Mount_1', variations=[InventoryPartVariation(id=0, color=[0.3762621283531189, 0.3762621283531189, 0.3762621283531189, 1.0], price=None)]),\n",
       " '2166b3a9857d178cc674b33e4beebe8c': CatalogItem(name='LCD_1', variations=[InventoryPartVariation(id=0, color=[0.33716362714767456, 0.6239603757858276, 0.8468732237815857, 1.0], price=None)]),\n",
       " '6a3628da834f9092dadb962708bdf2ad': CatalogItem(name='Backplate_0', variations=[InventoryPartVariation(id=0, color=[0.3762621283531189, 0.3762621283531189, 0.3762621283531189, 1.0], price=None)]),\n",
       " '061f4c587fb7c3248936670698fb0957': CatalogItem(name='Eye_1', variations=[InventoryPartVariation(id=0, color=[0.33716362714767456, 0.6239603757858276, 0.8468732237815857, 1.0], price=None)]),\n",
       " '7c8453e2dabce3416fcbf71cb7cc78f3': CatalogItem(name='Arducam_No_Case_1', variations=[InventoryPartVariation(id=0, color=[0.33716362714767456, 0.6239603757858276, 0.8468732237815857, 1.0], price=None)]),\n",
       " 'ad7ffbac4c42c481f35301bb40d8c000': CatalogItem(name='XPT2046_Touch_0', variations=[InventoryPartVariation(id=0, color=[0.21952620148658752, 0.2462013214826584, 0.2622506618499756, 1.0], price=None)]),\n",
       " 'c994bc2905edebfa836e2ffd0307392c': CatalogItem(name='Neck_0', variations=[InventoryPartVariation(id=0, color=[0.9559733271598816, 0.4677838087081909, 0.0003035269910469651, 1.0], price=None)])}"
      ]
     },
     "execution_count": 5,
     "metadata": {},
     "output_type": "execute_result"
    }
   ],
   "source": [
    "project.inventory.catalog"
   ]
  },
  {
   "cell_type": "code",
   "execution_count": null,
   "metadata": {},
   "outputs": [],
   "source": [
    "from jupyter_cadquery.viewer import show\n",
    "show(project.root_assembly.to_cq(project))"
   ]
  },
  {
   "cell_type": "code",
   "execution_count": 6,
   "metadata": {},
   "outputs": [],
   "source": [
    "new_project = Project()\n",
    "new_index = AssemblyIndex(prev_project=project)\n",
    "\n",
    "rev_assemblies = CadService.read_cqassembly(cq_assembly, new_project, new_index)\n"
   ]
  },
  {
   "cell_type": "code",
   "execution_count": 7,
   "metadata": {},
   "outputs": [],
   "source": [
    "from pathlib import Path\n",
    "\n",
    "CadService.write_project(\"examples/test/Robot\", new_project, new_index)"
   ]
  },
  {
   "cell_type": "code",
   "execution_count": 8,
   "metadata": {},
   "outputs": [],
   "source": [
    "project = CadService.read_project(\"examples/test/Robot\")"
   ]
  },
  {
   "cell_type": "code",
   "execution_count": 10,
   "metadata": {},
   "outputs": [],
   "source": [
    "new_project2 = Project()\n",
    "new_index2 = AssemblyIndex(prev_project=project)\n",
    "\n",
    "rev_assemblies = CadService.read_cqassembly(cq_assembly, new_project2, new_index2)\n"
   ]
  },
  {
   "cell_type": "code",
   "execution_count": 11,
   "metadata": {},
   "outputs": [
    {
     "data": {
      "text/plain": [
       "{'34dc8687db09aada515c7687ad4b19d2': CatalogItem(name='Shoulder_Inner_0', variations=[InventoryPartVariation(id=0, color=[0.8227857351303101, 0.8227857351303101, 0.8227857351303101, 1.0], price=1.2)]),\n",
       " '6c456ddc8ab63e7d0534621fcbef0888': CatalogItem(name='Shoulder_NonTorso_0', variations=[InventoryPartVariation(id=0, color=[0.8227857351303101, 0.8227857351303101, 0.8227857351303101, 1.0], price=None)]),\n",
       " '2f6e7b4e3686d489f4755e2171be91c0': CatalogItem(name='X8_<1>_0-Inner_0', variations=[InventoryPartVariation(id=0, color=[0.9386857151985168, 0.24228112399578094, 0.0003035269910469651, 1.0], price=None)]),\n",
       " 'fa9d45e2978a9108699e4814aa0bd953': CatalogItem(name='X8_<1>_0-Outer_0', variations=[InventoryPartVariation(id=0, color=[0.8227857351303101, 0.8227857351303101, 0.8227857351303101, 1.0], price=None)]),\n",
       " '41ba72c40f1caabdaed0f175bc58ff25': CatalogItem(name='X8_<1>_0-PCB_0', variations=[InventoryPartVariation(id=0, color=[0.5520114302635193, 0.7605245113372803, 0.8962693810462952, 1.0], price=None)]),\n",
       " '578cc0c24c967a976901341f71a2be9d': CatalogItem(name='X4_<1>_0-Outer_0', variations=[InventoryPartVariation(id=0, color=[0.5520114302635193, 0.7605245113372803, 0.8962693810462952, 1.0], price=None)]),\n",
       " '3028aeb4c44efd73a0e9a1691af54732': CatalogItem(name='X4_<1>_0-PCB_0', variations=[InventoryPartVariation(id=0, color=[0.9386857151985168, 0.24228112399578094, 0.0003035269910469651, 1.0], price=None)]),\n",
       " 'dfdf45bb67c86b4ed01f890addc43d7e': CatalogItem(name='X4_<1>_0-Inner_0', variations=[InventoryPartVariation(id=0, color=[0.9386857151985168, 0.24228112399578094, 0.0003035269910469651, 1.0], price=None)]),\n",
       " 'd65d8a89d6b5999819beaa0173dde981': CatalogItem(name='X6_<2>_0-Outer_0', variations=[InventoryPartVariation(id=0, color=[0.9386857151985168, 0.24228112399578094, 0.0003035269910469651, 1.0], price=None)]),\n",
       " 'c84f0dbbd2402eaba07c386946ad1659': CatalogItem(name='X6_<2>_0-Inner_0', variations=[InventoryPartVariation(id=0, color=[0.21223075687885284, 0.21223075687885284, 0.21223075687885284, 1.0], price=None)]),\n",
       " '0dd1f878a13299e9236f99766e9e1e5e': CatalogItem(name='X6_<2>_0-PCB_0', variations=[InventoryPartVariation(id=0, color=[0.9559733271598816, 0.4677838087081909, 0.0003035269910469651, 1.0], price=None)]),\n",
       " 'dead527226a9daaf4e23e8a42244fcc0': CatalogItem(name='Forearm_0', variations=[InventoryPartVariation(id=0, color=[0.9386857151985168, 0.24228112399578094, 0.0003035269910469651, 1.0], price=None)]),\n",
       " 'f5d2048a64296da48b073b693f288fec': CatalogItem(name='Elbow_0', variations=[InventoryPartVariation(id=0, color=[0.9386857151985168, 0.24228112399578094, 0.0003035269910469651, 1.0], price=None)]),\n",
       " '815396318413e00b5ff9abbdd39ca43f': CatalogItem(name='Slide_1', variations=[InventoryPartVariation(id=0, color=[0.8227857351303101, 0.8227857351303101, 0.8227857351303101, 1.0], price=None)]),\n",
       " 'e00cb1958ef163679795f54c2cf8a6d9': CatalogItem(name='Camera_Mount_0', variations=[InventoryPartVariation(id=0, color=[0.3762621283531189, 0.3762621283531189, 0.3762621283531189, 1.0], price=None)]),\n",
       " 'd9c453647b43ca8dd999a1ddd5d2007d': CatalogItem(name='Mount_0', variations=[InventoryPartVariation(id=0, color=[0.33716362714767456, 0.6239603757858276, 0.8468732237815857, 1.0], price=None)]),\n",
       " '31aba5fff0648548e6565b73ecc7fe8b': CatalogItem(name='Spur_gear__26_teeth__0', variations=[InventoryPartVariation(id=0, color=[0.33716362714767456, 0.6239603757858276, 0.8468732237815857, 1.0], price=None)]),\n",
       " '3b9e5e2f86a77d35cb4d73e694742b3c': CatalogItem(name='Rack_1', variations=[InventoryPartVariation(id=0, color=[0.3762621283531189, 0.3762621283531189, 0.3762621283531189, 1.0], price=None)]),\n",
       " 'f7c58225df89cc524937384224b4eb14': CatalogItem(name='Wrist_0', variations=[InventoryPartVariation(id=0, color=[0.33716362714767456, 0.6239603757858276, 0.8468732237815857, 1.0], price=None)]),\n",
       " 'dccc2d76abdd34e89f57ba7fafc4013c': CatalogItem(name='Gripper_1', variations=[InventoryPartVariation(id=0, color=[0.3762621283531189, 0.3762621283531189, 0.3762621283531189, 1.0], price=None)]),\n",
       " '6df12b23d9b056b7fe6756e49f1b00fe': CatalogItem(name='Slide_Rail_0', variations=[InventoryPartVariation(id=0, color=[0.04373503103852272, 0.11953842639923096, 0.4564110338687897, 1.0], price=None)]),\n",
       " '0b3e8ea92fd552e74218592f6f7d3266': CatalogItem(name='Arducam_Case_0', variations=[InventoryPartVariation(id=0, color=[0.33716362714767456, 0.6239603757858276, 0.8468732237815857, 1.0], price=None)]),\n",
       " '73208397a75d8a31799591c457a83203': CatalogItem(name='Base_0', variations=[InventoryPartVariation(id=0, color=[0.33716362714767456, 0.6239603757858276, 0.8468732237815857, 1.0], price=None)]),\n",
       " 'e1d27e445f83c069026353557f5b3df4': CatalogItem(name='Hips_0', variations=[InventoryPartVariation(id=0, color=[0.33716362714767456, 0.6239603757858276, 0.8468732237815857, 1.0], price=None)]),\n",
       " 'c945c75012a5509a86e756a36883e40b': CatalogItem(name='hip_rotate_0', variations=[InventoryPartVariation(id=0, color=[0.8227857351303101, 0.8227857351303101, 0.8227857351303101, 1.0], price=None)]),\n",
       " '1ca003ca4f7ade55b19cc95a8a4256b9': CatalogItem(name='Thigh_HTD_5mm_44T_Pulley_0', variations=[InventoryPartVariation(id=0, color=[0.8227857351303101, 0.8227857351303101, 0.8227857351303101, 1.0], price=None)]),\n",
       " 'c5a9567539994bc46c57e9ad185c4458': CatalogItem(name='Ankle_Pulley_48T_0', variations=[InventoryPartVariation(id=0, color=[0.33716362714767456, 0.6239603757858276, 0.8468732237815857, 1.0], price=None)]),\n",
       " '32a20ae923b97139ebc984cbb13fcea1': CatalogItem(name='Calf_Pulley_24T_0', variations=[InventoryPartVariation(id=0, color=[0.9386857151985168, 0.24228112399578094, 0.0003035269910469651, 1.0], price=None)]),\n",
       " 'de60eb80ea53ca2c88fcaa34490c8446': CatalogItem(name='Rubber_0', variations=[InventoryPartVariation(id=0, color=[0.3762621283531189, 0.3762621283531189, 0.3762621283531189, 1.0], price=None)]),\n",
       " 'b6cfe3b9891049fe25a43caa0525fa53': CatalogItem(name='Foot_0', variations=[InventoryPartVariation(id=0, color=[0.33716362714767456, 0.6239603757858276, 0.8468732237815857, 1.0], price=None)]),\n",
       " 'f4b61a464077558e082639e27fd24a4e': CatalogItem(name='Thigh_Rotate_Left_0', variations=[InventoryPartVariation(id=0, color=[0.8227857351303101, 0.8227857351303101, 0.8227857351303101, 1.0], price=None)]),\n",
       " 'e42c58e01d479d9a057aa118d6d9fa94': CatalogItem(name='Belt_Thigh_Left_0', variations=[InventoryPartVariation(id=0, color=[0.3762621283531189, 0.3762621283531189, 0.3762621283531189, 1.0], price=None)]),\n",
       " 'f3046d460b809540c3bd186ba5c95245': CatalogItem(name='Right_Leg_<1>_0-X10_<1>_0-Outer_0', variations=[InventoryPartVariation(id=0, color=[0.9386857151985168, 0.24228112399578094, 0.0003035269910469651, 1.0], price=None)]),\n",
       " 'd0d15b0eefbac8f910b84db8a36ae245': CatalogItem(name='Right_Leg_<1>_0-X10_<1>_0-PCB_0', variations=[InventoryPartVariation(id=0, color=[0.21223075687885284, 0.21223075687885284, 0.21223075687885284, 1.0], price=None)]),\n",
       " '3056d5b9c8c19bf2890e45c4417f3d99': CatalogItem(name='Right_Leg_<1>_0-X10_<1>_0-Inner_0', variations=[InventoryPartVariation(id=0, color=[0.9559733271598816, 0.4677838087081909, 0.0003035269910469651, 1.0], price=None)]),\n",
       " 'f461b52ad9545a05982b3e7ac1b4bfea': CatalogItem(name='51T_HDT5_15MM_Belt_Knee_Left_0', variations=[InventoryPartVariation(id=0, color=[0.3762621283531189, 0.3762621283531189, 0.3762621283531189, 1.0], price=None)]),\n",
       " 'a5e8a68a17046183e2cce151c3e4b77f': CatalogItem(name='Ankle_0', variations=[InventoryPartVariation(id=0, color=[0.3762621283531189, 0.3762621283531189, 0.3762621283531189, 1.0], price=None)]),\n",
       " '79b36ade1dabcce6365425932d238b7c': CatalogItem(name='Thigh_Rotate_Right_0', variations=[InventoryPartVariation(id=0, color=[0.8227857351303101, 0.8227857351303101, 0.8227857351303101, 1.0], price=None)]),\n",
       " '87e0090dfb09ab58093b1f94c73b5f93': CatalogItem(name='51T_HDT5_15MM_Belt_Knee_Right_0', variations=[InventoryPartVariation(id=0, color=[0.3762621283531189, 0.3762621283531189, 0.3762621283531189, 1.0], price=None)]),\n",
       " '50a88d4d706c5afb28a9cb8d8fe47c05': CatalogItem(name='Belt_Thigh_Right_0', variations=[InventoryPartVariation(id=0, color=[0.3762621283531189, 0.3762621283531189, 0.3762621283531189, 1.0], price=None)]),\n",
       " 'bd243aaf0a2fc4a96bf94780280b945f': CatalogItem(name='92981A105_Alloy_Steel_Shoulder_Screws_3', variations=[InventoryPartVariation(id=0, color=[0.5271151065826416, 0.5271151065826416, 0.5271151065826416, 1.0], price=None)]),\n",
       " '8e7b2a4313503bfd46fc08e3345fc64d': CatalogItem(name='Link_1', variations=[InventoryPartVariation(id=0, color=[0.38642942905426025, 0.6444796919822693, 0.2917706370353699, 1.0], price=None)]),\n",
       " '0aca8245791f5de5553571b5049038d8': CatalogItem(name='Bottom_Torso_Upper_Half_0', variations=[InventoryPartVariation(id=0, color=[0.33716362714767456, 0.6239603757858276, 0.8468732237815857, 1.0], price=None)]),\n",
       " 'b4d70dec08a9b549f0931595a80f57dd': CatalogItem(name='Torso_Crank_Left_0', variations=[InventoryPartVariation(id=0, color=[0.4677838087081909, 0.5394794940948486, 0.6038273572921753, 1.0], price=None)]),\n",
       " '299494cc38e32ca1355c3df24ebbd929': CatalogItem(name='6mm_Bearing_5', variations=[InventoryPartVariation(id=0, color=[0.5271151065826416, 0.5271151065826416, 0.5271151065826416, 1.0], price=None)]),\n",
       " '31c30153d3e4022e6a1a3725929d7d51': CatalogItem(name='Bearing_1', variations=[InventoryPartVariation(id=0, color=[0.5271151065826416, 0.5271151065826416, 0.5271151065826416, 1.0], price=None)]),\n",
       " 'b3226b338c27ebe52bbccdda4b89c7b9': CatalogItem(name='Bottom_Torso_Lower_Half_0', variations=[InventoryPartVariation(id=0, color=[0.7529422044754028, 0.28744083642959595, 0.1946178376674652, 1.0], price=None)]),\n",
       " '55df24d3e8b0d1ed59e43c9d226b2353': CatalogItem(name='Cone_Spacer_7', variations=[InventoryPartVariation(id=0, color=[0.38642942905426025, 0.30054378509521484, 0.6444796919822693, 1.0], price=None)]),\n",
       " '2a6623d7ebd0f7d54d2ed92fc8118053': CatalogItem(name='92981A106_Alloy_Steel_Shoulder_Screws_0', variations=[InventoryPartVariation(id=0, color=[0.5271151065826416, 0.5271151065826416, 0.5271151065826416, 1.0], price=None)]),\n",
       " 'c390815252d14c7b7720d7f0cdba4648': CatalogItem(name='Top_Torso_0', variations=[InventoryPartVariation(id=0, color=[0.33716362714767456, 0.6239603757858276, 0.8468732237815857, 1.0], price=None)]),\n",
       " 'a9180545752adadd78866110a1121d45': CatalogItem(name='2995K11_Swivel_Joint_<2>_0-Part_1_0', variations=[InventoryPartVariation(id=0, color=[0.5271151065826416, 0.5271151065826416, 0.5271151065826416, 1.0], price=None)]),\n",
       " '0e2b94c7ae3fa3b4dacbaf10aa6991cc': CatalogItem(name='2995K11_Swivel_Joint_<2>_0-Part_2_0', variations=[InventoryPartVariation(id=0, color=[0.5271151065826416, 0.5271151065826416, 0.5271151065826416, 1.0], price=None)]),\n",
       " '51e30fb9cd65cae56325b49c930163d2': CatalogItem(name='92981A107_Alloy_Steel_Shoulder_Screws_<1>_0-Part_1_0', variations=[InventoryPartVariation(id=0, color=[0.5271151065826416, 0.5271151065826416, 0.5271151065826416, 1.0], price=None)]),\n",
       " 'dec1404f3286bf9f02ede35c72a46fec': CatalogItem(name='92981A107_Alloy_Steel_Shoulder_Screws_<1>_0-Part_2_0', variations=[InventoryPartVariation(id=0, color=[0.5271151065826416, 0.5271151065826416, 0.5271151065826416, 1.0], price=None)]),\n",
       " '6751062260da59a4cdb196fc2d39cb3c': CatalogItem(name='Torso_Pivot_0', variations=[InventoryPartVariation(id=0, color=[0.09530746936798096, 0.5647115111351013, 0.5088813304901123, 1.0], price=None)]),\n",
       " '19628061091eb84f9a867dea6f5c9ec2': CatalogItem(name='Torso_Crank_Right_0', variations=[InventoryPartVariation(id=0, color=[0.4677838087081909, 0.5394794940948486, 0.6038273572921753, 1.0], price=None)]),\n",
       " 'f0195d9636d0e806f855954dfa48930b': CatalogItem(name='Head_0', variations=[InventoryPartVariation(id=0, color=[0.33716362714767456, 0.6239603757858276, 0.8468732237815857, 1.0], price=None)]),\n",
       " 'ffd9c7628de9b3a0cc060d4cdc0e2c67': CatalogItem(name='Ardu_Cam_Mount_1', variations=[InventoryPartVariation(id=0, color=[0.3762621283531189, 0.3762621283531189, 0.3762621283531189, 1.0], price=None)]),\n",
       " '2166b3a9857d178cc674b33e4beebe8c': CatalogItem(name='LCD_1', variations=[InventoryPartVariation(id=0, color=[0.33716362714767456, 0.6239603757858276, 0.8468732237815857, 1.0], price=None)]),\n",
       " '6a3628da834f9092dadb962708bdf2ad': CatalogItem(name='Backplate_0', variations=[InventoryPartVariation(id=0, color=[0.3762621283531189, 0.3762621283531189, 0.3762621283531189, 1.0], price=None)]),\n",
       " '061f4c587fb7c3248936670698fb0957': CatalogItem(name='Eye_1', variations=[InventoryPartVariation(id=0, color=[0.33716362714767456, 0.6239603757858276, 0.8468732237815857, 1.0], price=None)]),\n",
       " '7c8453e2dabce3416fcbf71cb7cc78f3': CatalogItem(name='Arducam_No_Case_1', variations=[InventoryPartVariation(id=0, color=[0.33716362714767456, 0.6239603757858276, 0.8468732237815857, 1.0], price=None)]),\n",
       " 'ad7ffbac4c42c481f35301bb40d8c000': CatalogItem(name='XPT2046_Touch_0', variations=[InventoryPartVariation(id=0, color=[0.21952620148658752, 0.2462013214826584, 0.2622506618499756, 1.0], price=None)]),\n",
       " 'c994bc2905edebfa836e2ffd0307392c': CatalogItem(name='Neck_0', variations=[InventoryPartVariation(id=0, color=[0.9559733271598816, 0.4677838087081909, 0.0003035269910469651, 1.0], price=None)])}"
      ]
     },
     "execution_count": 11,
     "metadata": {},
     "output_type": "execute_result"
    }
   ],
   "source": [
    "new_project2.inventory.catalog"
   ]
  },
  {
   "cell_type": "code",
   "execution_count": 7,
   "metadata": {},
   "outputs": [
    {
     "name": "stdout",
     "output_type": "stream",
     "text": [
      "Overwriting auto display for cadquery Workplane and Shape\n",
      "100% ⋮————————————————————————————————————————————————————————————⋮ (200/200)  0.45s\n"
     ]
    },
    {
     "data": {
      "application/vnd.jupyter.widget-view+json": {
       "model_id": "16656aa54cf046d0be7b66a2c8fb3f32",
       "version_major": 2,
       "version_minor": 0
      },
      "text/plain": [
       "CadViewerWidget(anchor=None, cad_width=800, glass=False, height=600, pinning=False, theme='light', title=None,…"
      ]
     },
     "metadata": {},
     "output_type": "display_data"
    },
    {
     "data": {
      "text/html": [
       "<div></div>"
      ],
      "text/plain": [
       "<IPython.core.display.HTML object>"
      ]
     },
     "metadata": {},
     "output_type": "display_data"
    }
   ],
   "source": [
    "CadService.visualize_project(\"examples/test/Robot\")"
   ]
  }
 ],
 "metadata": {
  "kernelspec": {
   "display_name": "base",
   "language": "python",
   "name": "python3"
  },
  "language_info": {
   "codemirror_mode": {
    "name": "ipython",
    "version": 3
   },
   "file_extension": ".py",
   "mimetype": "text/x-python",
   "name": "python",
   "nbconvert_exporter": "python",
   "pygments_lexer": "ipython3",
   "version": "3.11.8"
  }
 },
 "nbformat": 4,
 "nbformat_minor": 2
}
