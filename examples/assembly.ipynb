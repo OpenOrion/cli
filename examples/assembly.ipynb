{
 "cells": [
  {
   "cell_type": "code",
   "execution_count": 2,
   "metadata": {},
   "outputs": [],
   "source": [
    "step_file_path = \"examples/test/Robot.step\""
   ]
  },
  {
   "cell_type": "code",
   "execution_count": 3,
   "metadata": {},
   "outputs": [
    {
     "name": "stdout",
     "output_type": "stream",
     "text": [
      "Reading STEP file ... parsing Assembly ... done\n",
      "duration:   6.6 s\n"
     ]
    }
   ],
   "source": [
    "from ocp_tessellate.stepreader import StepReader\n",
    "\n",
    "r = StepReader()\n",
    "r.load(step_file_path)\n",
    "cq_assembly = r.to_cadquery()"
   ]
  },
  {
   "cell_type": "code",
   "execution_count": 3,
   "metadata": {},
   "outputs": [],
   "source": [
    "from orion_cli.services.cad_service import CadService, Project, AssemblyIndex\n",
    "\n",
    "project = Project()\n",
    "index = AssemblyIndex()\n",
    "assemblies = CadService.read_cq_assembly(cq_assembly, project, index)\n"
   ]
  },
  {
   "cell_type": "code",
   "execution_count": 1,
   "metadata": {},
   "outputs": [
    {
     "ename": "NameError",
     "evalue": "name 'CadService' is not defined",
     "output_type": "error",
     "traceback": [
      "\u001b[0;31m---------------------------------------------------------------------------\u001b[0m",
      "\u001b[0;31mNameError\u001b[0m                                 Traceback (most recent call last)",
      "Cell \u001b[0;32mIn[1], line 1\u001b[0m\n\u001b[0;32m----> 1\u001b[0m out \u001b[38;5;241m=\u001b[39m \u001b[43mCadService\u001b[49m\u001b[38;5;241m.\u001b[39mget_inventory_markdown(project\u001b[38;5;241m.\u001b[39minventory, \u001b[38;5;124m\"\u001b[39m\u001b[38;5;124mexamples/test/Robot\u001b[39m\u001b[38;5;124m\"\u001b[39m)\n\u001b[1;32m      2\u001b[0m \u001b[38;5;28;01mwith\u001b[39;00m \u001b[38;5;28mopen\u001b[39m(\u001b[38;5;124m\"\u001b[39m\u001b[38;5;124m/workspaces/orion-cli/examples/test/Robot/inventory/README.md\u001b[39m\u001b[38;5;124m\"\u001b[39m, \u001b[38;5;124m\"\u001b[39m\u001b[38;5;124mw\u001b[39m\u001b[38;5;124m\"\u001b[39m) \u001b[38;5;28;01mas\u001b[39;00m f:\n\u001b[1;32m      3\u001b[0m     f\u001b[38;5;241m.\u001b[39mwrite(out)\n",
      "\u001b[0;31mNameError\u001b[0m: name 'CadService' is not defined"
     ]
    }
   ],
   "source": [
    "out = CadService.get_inventory_markdown(project.inventory, \"examples/test/Robot\")\n",
    "with open(\"/workspaces/orion-cli/examples/test/Robot/inventory/README.md\", \"w\") as f:\n",
    "    f.write(out)"
   ]
  },
  {
   "cell_type": "code",
   "execution_count": null,
   "metadata": {},
   "outputs": [],
   "source": [
    "from jupyter_cadquery.viewer import show\n",
    "show(project.root_assembly.to_cq(project))"
   ]
  },
  {
   "cell_type": "code",
   "execution_count": 5,
   "metadata": {},
   "outputs": [],
   "source": [
    "new_project = Project()\n",
    "new_index = AssemblyIndex(prev_project=project)\n",
    "\n",
    "rev_assemblies = CadService.read_cq_assembly(cq_assembly, new_project, new_index)\n"
   ]
  },
  {
   "cell_type": "code",
   "execution_count": 6,
   "metadata": {},
   "outputs": [],
   "source": [
    "from pathlib import Path\n",
    "\n",
    "CadService.write_project(\"examples/test/Robot\", new_project, new_index)"
   ]
  },
  {
   "cell_type": "code",
   "execution_count": 10,
   "metadata": {},
   "outputs": [],
   "source": [
    "from orion_cli.services.cad_service import CadService, Project, AssemblyIndex\n",
    "\n",
    "project = CadService.read_project(\"examples/test/Robot\")\n",
    "\n",
    "CadService.write_assets(\"examples/test/Robot\", project)\n",
    "# out = CadService.get_inventory_markdown(project.inventory, \"examples/test/Robot\")\n",
    "# with open(\"/workspaces/orion-cli/examples/test/Robot/inventory/README.md\", \"w\") as f:\n",
    "#     f.write(out)"
   ]
  },
  {
   "cell_type": "code",
   "execution_count": 10,
   "metadata": {},
   "outputs": [],
   "source": [
    "new_project2 = Project()\n",
    "new_index2 = AssemblyIndex(prev_project=project)\n",
    "\n",
    "rev_assemblies = CadService.read_cq_assembly(cq_assembly, new_project2, new_index2)\n"
   ]
  },
  {
   "cell_type": "code",
   "execution_count": 1,
   "metadata": {},
   "outputs": [
    {
     "name": "stderr",
     "output_type": "stream",
     "text": [
      "Generating visualization\n"
     ]
    },
    {
     "name": "stdout",
     "output_type": "stream",
     "text": [
      "Overwriting auto display for cadquery Workplane and Shape\n",
      "........................................................................................................................................................................................................ sending ... done\n"
     ]
    }
   ],
   "source": [
    "from orion_cli.services.cad_service import CadService, Project, AssemblyIndex\n",
    "\n",
    "CadService.visualize_project(\"examples/test/Robot\", remote_viewer=True)"
   ]
  },
  {
   "cell_type": "code",
   "execution_count": null,
   "metadata": {},
   "outputs": [],
   "source": []
  }
 ],
 "metadata": {
  "kernelspec": {
   "display_name": "base",
   "language": "python",
   "name": "python3"
  },
  "language_info": {
   "codemirror_mode": {
    "name": "ipython",
    "version": 3
   },
   "file_extension": ".py",
   "mimetype": "text/x-python",
   "name": "python",
   "nbconvert_exporter": "python",
   "pygments_lexer": "ipython3",
   "version": "3.11.8"
  }
 },
 "nbformat": 4,
 "nbformat_minor": 2
}
