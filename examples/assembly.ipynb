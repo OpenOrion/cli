{
 "cells": [
  {
   "cell_type": "code",
   "execution_count": 1,
   "metadata": {},
   "outputs": [],
   "source": [
    "step_file_path = \"examples/test/Robot.step\""
   ]
  },
  {
   "cell_type": "code",
   "execution_count": 2,
   "metadata": {},
   "outputs": [
    {
     "name": "stdout",
     "output_type": "stream",
     "text": [
      "Reading STEP file ... parsing Assembly ... done\n",
      "duration:   6.7 s\n"
     ]
    }
   ],
   "source": [
    "from ocp_tessellate.stepreader import StepReader\n",
    "\n",
    "r = StepReader()\n",
    "r.load(step_file_path)\n",
    "cq_assembly = r.to_cadquery()"
   ]
  },
  {
   "cell_type": "code",
   "execution_count": 3,
   "metadata": {},
   "outputs": [],
   "source": [
    "from orion_cli.services.cad_service import CadService, Project, AssemblyIndex\n",
    "\n",
    "project = Project()\n",
    "index = AssemblyIndex()\n",
    "assemblies = CadService.read_cq_assembly(cq_assembly, project, index)\n"
   ]
  },
  {
   "cell_type": "code",
   "execution_count": 4,
   "metadata": {},
   "outputs": [],
   "source": [
    "CadService.write_project(\"examples/test/Robot\", project, index)"
   ]
  },
  {
   "cell_type": "code",
   "execution_count": 5,
   "metadata": {},
   "outputs": [],
   "source": [
    "from orion_cli.services.cad_service import CadService, Project, AssemblyIndex\n",
    "\n",
    "project = CadService.read_project(\"examples/test/Robot\")"
   ]
  },
  {
   "cell_type": "code",
   "execution_count": 6,
   "metadata": {},
   "outputs": [
    {
     "name": "stderr",
     "output_type": "stream",
     "text": [
      "Generating visualization\n"
     ]
    },
    {
     "name": "stdout",
     "output_type": "stream",
     "text": [
      "Overwriting auto display for cadquery Workplane and Shape\n",
      "........................................................................................................................................................................................................ sending ... done\n"
     ]
    }
   ],
   "source": [
    "from orion_cli.services.cad_service import CadService, Project, AssemblyIndex\n",
    "\n",
    "CadService.visualize_project(\"examples/test/Robot\", remote_viewer=True)"
   ]
  },
  {
   "cell_type": "code",
   "execution_count": null,
   "metadata": {},
   "outputs": [],
   "source": []
  }
 ],
 "metadata": {
  "kernelspec": {
   "display_name": "base",
   "language": "python",
   "name": "python3"
  },
  "language_info": {
   "codemirror_mode": {
    "name": "ipython",
    "version": 3
   },
   "file_extension": ".py",
   "mimetype": "text/x-python",
   "name": "python",
   "nbconvert_exporter": "python",
   "pygments_lexer": "ipython3",
   "version": "3.11.8"
  }
 },
 "nbformat": 4,
 "nbformat_minor": 2
}
